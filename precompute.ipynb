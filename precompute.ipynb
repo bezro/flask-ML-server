{
 "cells": [
  {
   "cell_type": "code",
   "execution_count": 1,
   "metadata": {},
   "outputs": [],
   "source": [
    "import pandas as pd\n",
    "import numpy as np\n",
    "import re\n",
    "from nltk.stem.snowball import RussianStemmer\n",
    "from sklearn.feature_extraction.text import CountVectorizer\n",
    "from sklearn.metrics import mean_squared_error\n",
    "from sklearn.model_selection import GridSearchCV"
   ]
  },
  {
   "cell_type": "code",
   "execution_count": 2,
   "metadata": {},
   "outputs": [],
   "source": [
    "data = pd.read_csv('news.csv')"
   ]
  },
  {
   "cell_type": "code",
   "execution_count": 4,
   "metadata": {},
   "outputs": [],
   "source": [
    "data = data.dropna(subset=['rubric'])"
   ]
  },
  {
   "cell_type": "code",
   "execution_count": 3,
   "metadata": {},
   "outputs": [
    {
     "name": "stdout",
     "output_type": "stream",
     "text": [
      "Экономика 420\n",
      "Спорт 494\n",
      "Из жизни 197\n",
      "Интернет и СМИ 211\n",
      "Культура 206\n",
      "Дом 123\n",
      "Бывший СССР 394\n",
      "69-я параллель 27\n",
      "Мир 718\n",
      "Наука и техника 208\n",
      "Путешествия 183\n",
      "Россия 908\n",
      "Нацпроекты 53\n",
      "Силовые структуры 220\n",
      "Ценности 141\n",
      "nan 0\n"
     ]
    }
   ],
   "source": [
    "for c in data['rubric'].unique():\n",
    "    print(c, sum(data['rubric'] == c))"
   ]
  },
  {
   "cell_type": "code",
   "execution_count": 5,
   "metadata": {},
   "outputs": [],
   "source": [
    "from sklearn.preprocessing import OneHotEncoder\n",
    "\n",
    "ohe = OneHotEncoder()\n",
    "y = ohe.fit_transform(np.array(data['rubric']).reshape(-1, 1)).astype('int').toarray()\n",
    "column_to_category = ohe.categories_"
   ]
  },
  {
   "cell_type": "code",
   "execution_count": 6,
   "metadata": {},
   "outputs": [],
   "source": [
    "text = np.array(data['text'])\n",
    "\n",
    "stem_rus = RussianStemmer(False)\n",
    "\n",
    "for i in range(len(text)):\n",
    "    out = ''\n",
    "    for word in re.sub('[^{0-9а-яА-Я}]', ' ', text[i]).lower().split(' '):\n",
    "        out += stem_rus.stem(word) + ' '\n",
    "    text[i] = out"
   ]
  },
  {
   "cell_type": "code",
   "execution_count": 7,
   "metadata": {},
   "outputs": [],
   "source": [
    "basic_vectorizer = CountVectorizer(min_df=4)\n",
    "text_train = text[:4000]\n",
    "text_test = text[4000:]\n",
    "X_train = basic_vectorizer.fit_transform(text_train)\n",
    "X_test = basic_vectorizer.transform(text_test)\n",
    "y_train = y[:4000, -1]\n",
    "y_test = y[4000:, -1]\n",
    "# В исходном датасете статьи были перемешаны, поэтому можно разделить даже так"
   ]
  },
  {
   "cell_type": "code",
   "execution_count": 11,
   "metadata": {},
   "outputs": [
    {
     "data": {
      "text/plain": [
       "{'max_depth': 2, 'n_estimators': 5}"
      ]
     },
     "execution_count": 11,
     "metadata": {},
     "output_type": "execute_result"
    }
   ],
   "source": [
    "from ensembles import GradientBoostingMSE\n",
    "from sklearn.metrics import mean_squared_error\n",
    "\n",
    "grid = {\n",
    "    'n_estimators': [3, 5, 7, 10, 15],\n",
    "    'max_depth': [1, 2, 3, 4, 5, 6]\n",
    "}\n",
    "\n",
    "gs_gbmse = GridSearchCV(estimator=GradientBoostingMSE(), param_grid=grid, scoring='neg_mean_squared_error')\n",
    "# GradientBoostingMSE - не библиотечный класс, но он удовлетворяет scikit API\n",
    "gs_gbmse.fit(X_train, y_train)\n",
    "gs_gbmse.best_params_"
   ]
  },
  {
   "cell_type": "code",
   "execution_count": 17,
   "metadata": {},
   "outputs": [],
   "source": [
    "best_max_depth, best_n_estimators = gs_gbmse.best_params_.values()"
   ]
  },
  {
   "cell_type": "code",
   "execution_count": 12,
   "metadata": {},
   "outputs": [
    {
     "data": {
      "text/plain": [
       "0.09375"
      ]
     },
     "execution_count": 12,
     "metadata": {},
     "output_type": "execute_result"
    }
   ],
   "source": [
    "np.mean(y_train)"
   ]
  },
  {
   "cell_type": "code",
   "execution_count": 14,
   "metadata": {},
   "outputs": [
    {
     "data": {
      "text/plain": [
       "(0.0496689604100579, 0.08147792929920478)"
      ]
     },
     "execution_count": 14,
     "metadata": {},
     "output_type": "execute_result"
    }
   ],
   "source": [
    "mean_squared_error(gs_gbmse.predict(X_test), y_test), mean_squared_error(np.ones_like(y_test) * np.mean(y_train), y_test)"
   ]
  },
  {
   "cell_type": "markdown",
   "metadata": {},
   "source": [
    "Делаем вывод, что с определением статей на экономическую тематику (последний столбец отвечал за тему \"Экономика\") алгоритм обучения справляется (неидеально, но всё же лучше, чем константный прогноз). Можем сохранять."
   ]
  }
 ],
 "metadata": {
  "interpreter": {
   "hash": "916dbcbb3f70747c44a77c7bcd40155683ae19c65e1c03b4aa3499c5328201f1"
  },
  "kernelspec": {
   "display_name": "Python 3.8.10 64-bit",
   "language": "python",
   "name": "python3"
  },
  "language_info": {
   "codemirror_mode": {
    "name": "ipython",
    "version": 3
   },
   "file_extension": ".py",
   "mimetype": "text/x-python",
   "name": "python",
   "nbconvert_exporter": "python",
   "pygments_lexer": "ipython3",
   "version": "3.8.10"
  },
  "orig_nbformat": 4
 },
 "nbformat": 4,
 "nbformat_minor": 2
}
